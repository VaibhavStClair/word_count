{
  "nbformat": 4,
  "nbformat_minor": 0,
  "metadata": {
    "colab": {
      "provenance": []
    },
    "kernelspec": {
      "name": "python3",
      "display_name": "Python 3"
    },
    "language_info": {
      "name": "python"
    }
  },
  "cells": [
    {
      "cell_type": "code",
      "execution_count": 1,
      "metadata": {
        "id": "S1MCRbU5pLYz"
      },
      "outputs": [],
      "source": [
        "f = open('Some_text.txt')"
      ]
    },
    {
      "cell_type": "code",
      "source": [
        "print(f.name)"
      ],
      "metadata": {
        "colab": {
          "base_uri": "https://localhost:8080/"
        },
        "id": "VJ2i8qripUGE",
        "outputId": "84952266-05ce-4b75-f39b-4599f06e7793"
      },
      "execution_count": 2,
      "outputs": [
        {
          "output_type": "stream",
          "name": "stdout",
          "text": [
            "Some_text.txt\n"
          ]
        }
      ]
    },
    {
      "cell_type": "code",
      "source": [
        "with open('Some_text.txt') as f:\n",
        "  f_content = f.read()\n",
        "  print(f_content)"
      ],
      "metadata": {
        "colab": {
          "base_uri": "https://localhost:8080/"
        },
        "id": "DWm3iX3-pW-Z",
        "outputId": "dec55670-b86b-45ac-d14d-d4e01d35f8d1"
      },
      "execution_count": 4,
      "outputs": [
        {
          "output_type": "stream",
          "name": "stdout",
          "text": [
            "Hi there, nice meeting you all. Today we are demonstrating the number of words in a file using python.\n",
            "Ok, here we go.\n",
            "We must try to get the number of lines, sentences, words.\n",
            "Lines mean /n.\n",
            "Sentences mean anything separating the period.\n",
            "Words in general mean total words formed from letters.\n"
          ]
        }
      ]
    },
    {
      "cell_type": "code",
      "source": [
        "#no. of lines:\n",
        "n = 0\n",
        "with open('Some_text.txt') as f:\n",
        "  for line in f:\n",
        "    n += 1\n",
        "  print('Number of lines: ',n)"
      ],
      "metadata": {
        "colab": {
          "base_uri": "https://localhost:8080/"
        },
        "id": "MwRWIMcLpfs0",
        "outputId": "2364c0dd-af0c-4ae0-9974-6f50aafc79e0"
      },
      "execution_count": 5,
      "outputs": [
        {
          "output_type": "stream",
          "name": "stdout",
          "text": [
            "Number of lines:  6\n"
          ]
        }
      ]
    },
    {
      "cell_type": "code",
      "source": [
        "#Number of words\n",
        "with open('Some_text.txt') as f:\n",
        "  f_content = f.readlines()\n",
        "  strings = ' '.join(str(i) for i in f_content)\n",
        "  words = strings.split()\n",
        "  print(words)\n",
        "  print(len(words))"
      ],
      "metadata": {
        "colab": {
          "base_uri": "https://localhost:8080/"
        },
        "id": "qycrtNyAqCZS",
        "outputId": "80d242f6-36f0-4744-dc76-e57a5dc2b09c"
      },
      "execution_count": 15,
      "outputs": [
        {
          "output_type": "stream",
          "name": "stdout",
          "text": [
            "['Hi', 'there,', 'nice', 'meeting', 'you', 'all.', 'Today', 'we', 'are', 'demonstrating', 'the', 'number', 'of', 'words', 'in', 'a', 'file', 'using', 'python.', 'Ok,', 'here', 'we', 'go.', 'We', 'must', 'try', 'to', 'get', 'the', 'number', 'of', 'lines,', 'sentences,', 'words.', 'Lines', 'mean', '/n.', 'Sentences', 'mean', 'anything', 'separating', 'the', 'period.', 'Words', 'in', 'general', 'mean', 'total', 'words', 'formed', 'from', 'letters.']\n",
            "52\n"
          ]
        }
      ]
    },
    {
      "cell_type": "code",
      "source": [
        "#Number of sentences (should be 7 here because period determines the sentence)\n",
        "with open('Some_text.txt') as f:\n",
        "  f_content = f.readlines()\n",
        "  strings = ' '.join(str(i) for i in f_content)\n",
        "  sentence = strings.split('.')\n",
        "  print(sentence)\n",
        "  print(len(sentence) - 1) #-1 cause split will add one no space element at the end"
      ],
      "metadata": {
        "colab": {
          "base_uri": "https://localhost:8080/"
        },
        "id": "crUcjtBRqyNf",
        "outputId": "f1a28646-e47e-4470-8e99-39abcb70798f"
      },
      "execution_count": 17,
      "outputs": [
        {
          "output_type": "stream",
          "name": "stdout",
          "text": [
            "['Hi there, nice meeting you all', ' Today we are demonstrating the number of words in a file using python', '\\n Ok, here we go', '\\n We must try to get the number of lines, sentences, words', '\\n Lines mean /n', '\\n Sentences mean anything separating the period', '\\n Words in general mean total words formed from letters', '']\n",
            "7\n"
          ]
        }
      ]
    },
    {
      "cell_type": "code",
      "source": [],
      "metadata": {
        "id": "qY5Pz0Wjr-re"
      },
      "execution_count": null,
      "outputs": []
    }
  ]
}